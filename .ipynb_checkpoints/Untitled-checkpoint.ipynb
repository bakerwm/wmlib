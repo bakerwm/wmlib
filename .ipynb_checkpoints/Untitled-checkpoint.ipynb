{
 "cells": [
  {
   "cell_type": "code",
   "execution_count": 14,
   "id": "monetary-constant",
   "metadata": {
    "execution": {
     "iopub.execute_input": "2021-06-15T15:29:59.538645Z",
     "iopub.status.busy": "2021-06-15T15:29:59.538143Z",
     "iopub.status.idle": "2021-06-15T15:30:01.229639Z",
     "shell.execute_reply": "2021-06-15T15:30:01.228386Z",
     "shell.execute_reply.started": "2021-06-15T15:29:59.538597Z"
    }
   },
   "outputs": [],
   "source": [
    "%reload_ext autoreload\n",
    "%autoreload 2\n",
    "\n",
    "import os\n",
    "import sys\n",
    "import argparse\n",
    "from hiseq.utils.utils import Config, run_shell_cmd, get_date\n",
    "from hiseq.utils.file import file_exists, file_abspath, check_path\n",
    "\n",
    "# j = 'ebi_download.yaml'\n",
    "# d = Config().load(j)\n",
    "\n",
    "\n",
    "\n",
    "import json\n",
    "import requests\n",
    "u = 'https://www.ebi.ac.uk/ena/portal/api/filereport?accession=PRJNA607400&result=read_run&fields=study_accession,sample_accession,experiment_accession,run_accession,tax_id,scientific_name,fastq_ftp,submitted_ftp,sra_ftp&format=json&download=true'\n",
    "\n",
    "response = requests.get(u)  # api call\n",
    "\n",
    "users = json.loads(response.text)\n",
    "# for user in users:\n",
    "#     print(user['fastq_ftp'])\n",
    "\n",
    "    \n",
    "# ascp -i ~/.aspera/connect/etc/asperaweb_id_dsa.openssh \n",
    "# -l 100M -T -k1 --mode recv --host ftp.ncbi.nlm.nih.gov --user anonftp --file-list file.lst .\n",
    "\n",
    "\n",
    "# aspera: era-fasp@fasp.sra.ebi.ac.uk:/vol1/fastq/SRR014/SRR014282/SRR014282.fastq.gz\n",
    "#\n",
    "# ftp.sra.ebi.ac.uk/vol1/fastq/SRR014/SRR014282/SRR014282.fastq.gz\n",
    "# ftp.sra.ebi.ac.uk/vol1/fastq/SRR156/000/SRR1568360/SRR1568360.fastq.gz\n",
    "# ftp.sra.ebi.ac.uk/vol1/fastq/SRR256/008/SRR2568518/SRR2568518_1.fastq.gz\n",
    "# ftp.sra.ebi.ac.uk/vol1/fastq/SRR256/008/SRR2568588/SRR2568588_1.fastq.gz\n",
    "# ftp.sra.ebi.ac.uk/vol1/fastq/SRR111/096/SRR11117696/SRR11117696_1.fastq.gz"
   ]
  },
  {
   "cell_type": "code",
   "execution_count": 18,
   "id": "strange-malpractice",
   "metadata": {
    "execution": {
     "iopub.execute_input": "2021-06-15T16:46:35.448768Z",
     "iopub.status.busy": "2021-06-15T16:46:35.448233Z",
     "iopub.status.idle": "2021-06-15T16:46:35.550504Z",
     "shell.execute_reply": "2021-06-15T16:46:35.549767Z",
     "shell.execute_reply.started": "2021-06-15T16:46:35.448719Z"
    }
   },
   "outputs": [
    {
     "data": {
      "text/plain": [
       "[1, 2, 3]"
      ]
     },
     "execution_count": 18,
     "metadata": {},
     "output_type": "execute_result"
    }
   ],
   "source": [
    "import os\n",
    "\n",
    "a = 'fasp.sra.ebi.ac.uk:/vol1/fastq/SRR111/096/SRR11117696/SRR11117696_1.fastq.gz'\n",
    "\n",
    "# a.split(':')\n",
    "a = [1]\n",
    "b = [2, 3]\n",
    "\n",
    "a.extend(b)\n",
    "a"
   ]
  }
 ],
 "metadata": {
  "kernelspec": {
   "display_name": "Python 3",
   "language": "python",
   "name": "python3"
  },
  "language_info": {
   "codemirror_mode": {
    "name": "ipython",
    "version": 3
   },
   "file_extension": ".py",
   "mimetype": "text/x-python",
   "name": "python",
   "nbconvert_exporter": "python",
   "pygments_lexer": "ipython3",
   "version": "3.8.6"
  }
 },
 "nbformat": 4,
 "nbformat_minor": 5
}
